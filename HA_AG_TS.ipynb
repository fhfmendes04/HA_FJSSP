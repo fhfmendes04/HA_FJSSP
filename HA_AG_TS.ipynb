{
  "nbformat": 4,
  "nbformat_minor": 0,
  "metadata": {
    "colab": {
      "provenance": [],
      "mount_file_id": "1pD-ZrR_bkeKBIErubKi6YGM-rz_1agKB",
      "authorship_tag": "ABX9TyNNR/rGt92yW7xVA50JytQ7",
      "include_colab_link": true
    },
    "kernelspec": {
      "name": "python3",
      "display_name": "Python 3"
    },
    "language_info": {
      "name": "python"
    }
  },
  "cells": [
    {
      "cell_type": "markdown",
      "metadata": {
        "id": "view-in-github",
        "colab_type": "text"
      },
      "source": [
        "<a href=\"https://colab.research.google.com/github/fhfmendes04/HA_FJSSP/blob/main/HA_AG_TS.ipynb\" target=\"_parent\"><img src=\"https://colab.research.google.com/assets/colab-badge.svg\" alt=\"Open In Colab\"/></a>"
      ]
    },
    {
      "cell_type": "code",
      "execution_count": 1,
      "metadata": {
        "id": "rikN9yMQsTPg"
      },
      "outputs": [],
      "source": [
        "import pandas as pd\n",
        "import numpy as np\n",
        "import random\n"
      ]
    },
    {
      "cell_type": "code",
      "source": [
        "class individuo():\n",
        "  def __init__(self, job, operation, machine, regras_MS):\n",
        "    self.OS = []\n",
        "    self.MS = []\n",
        "    self.fitness = 0\n",
        "    self.regras_MS = regras_MS\n",
        "\n",
        "    self.job = job\n",
        "    self.operation = operation\n",
        "    self.machine = machine\n",
        "\n",
        "    self.OS_String()\n",
        "    self.MS_String()\n",
        "\n",
        "  def OS_String(self):\n",
        "    lista = [3,3,3,3,3,3,3,3,3,3,3,3]\n",
        "    for l in range(0,self.job * self.operation):\n",
        "      flag = True\n",
        "      while flag:\n",
        "        numero = random.randint(0,11)\n",
        "        if lista[numero]>=0:\n",
        "          lista[numero] -= 1\n",
        "          self.OS.append(numero)\n",
        "          flag=False\n",
        "\n",
        "  def MS_String(self):\n",
        "    for j in range(0, self.job):\n",
        "      reg = self.regras_MS[j]\n",
        "      for o in range(0, self.operation):\n",
        "        self.MS.append(random.choice(reg[o]))\n"
      ],
      "metadata": {
        "id": "PJOsarkI09Ma"
      },
      "execution_count": 2,
      "outputs": []
    },
    {
      "cell_type": "code",
      "source": [
        "from pandas.core.window.common import find_stack_level\n",
        "class HA_AG_TS():\n",
        "  def __init__(self, tamanho_populacao=400, geracao=200, prob_crossover=0.8, prob_mutacao=0.1):\n",
        "    self.tamanho_populacao = tamanho_populacao\n",
        "    self.populacao = []\n",
        "    self.geracao = geracao\n",
        "    self.prob_crossover = prob_crossover\n",
        "    self.prob_mutacao = prob_mutacao\n",
        "    self.lista_solucoes = []\n",
        "    self.df = pd.DataFrame()\n",
        "    self.job = 0\n",
        "    self.operation = 0\n",
        "    self.machine = 0\n",
        "    self.regras_MS = []\n",
        "\n",
        "    self.upload()\n",
        "    self.regramento_MS()\n",
        "\n",
        "  def upload(self):\n",
        "      arquivo = \"/content/drive/MyDrive/USP/Mestrado Sistema de Informação/SIN 5006 - Inteligência Computacional/Apresentação I/code/MFJS01.xlsx\"\n",
        "      self.df = pd.read_excel(arquivo, index_col=False)\n",
        "      self.job = len(self.df['JOB'].unique())\n",
        "      self.operation = len(self.df['OPERATION'].unique())\n",
        "      self.machine = len(self.df['MACHINE'].unique())\n",
        "      print(\"JOB: \", self.job)\n",
        "      print(\"OPERATION: \", self.operation)\n",
        "      print(\"MACHINE: \", self.machine)\n",
        "\n",
        "      self.df.fillna(0,inplace=True)\n",
        "      self.df[\"MACHINE.2\"] = self.df[\"MACHINE.2\"].astype(int)\n",
        "      self.df['TIME.2'] = self.df[\"TIME.2\"].astype(int)\n",
        "\n",
        "  def regramento_MS(self):\n",
        "    for j in range(0,self.job):\n",
        "      regra_o = []\n",
        "      dados = self.df[self.df[\"JOB\"]==j].reset_index(drop=True)\n",
        "      for o in range(0, self.operation):\n",
        "        regra = []\n",
        "        machine_1 = dados.iloc[o][3]\n",
        "        machine_2 = dados.iloc[o][5]\n",
        "        machine_3 = dados.iloc[o][7]\n",
        "\n",
        "        if (machine_1 != 0):\n",
        "          regra.append(machine_1)\n",
        "        elif (machine_1 == 0):\n",
        "          if (dados.iloc[0][4]!= 0):\n",
        "            regra.append(machine_1)\n",
        "\n",
        "        if(machine_2 != 0):\n",
        "          regra.append(machine_2)\n",
        "        elif (machine_2 == 0):\n",
        "          if(dados.ilo[o][6] != 0):\n",
        "            regra.append(machine_2)\n",
        "\n",
        "        if(machine_3 !=0):\n",
        "          regra.append(machine_3)\n",
        "        elif (machine_3 == 0):\n",
        "          if (dados.iloc[o][8] !=0):\n",
        "            regra.append(machine_3)\n",
        "\n",
        "        regra_o.append(regra)\n",
        "\n",
        "      self.regras_MS.append(regra_o)\n",
        "\n",
        "  def fitness(self,os_lista, ms_lista):\n",
        "    maquinas = []\n",
        "    controle_os = np.zeros(self.job)\n",
        "\n",
        "    #Transforma a lista de 48 elementos em 12 x 4\n",
        "    conta = 0\n",
        "    mostra = []\n",
        "    maquinas = []\n",
        "    machine_job = [[0],[0],[0],[0],[0],[0],[0],[0]]\n",
        "    job_time = [[0],[0],[0],[0],[0],[0],[0],[0],[0],[0],[0],[0]]\n",
        "    for i in ms_lista:\n",
        "      mostra.append(i)\n",
        "      conta +=1\n",
        "      if ((conta % 4) == 0):\n",
        "        conta = 0\n",
        "        maquinas.append(mostra)\n",
        "        mostra=[]\n",
        "    #print(maquinas)\n",
        "    for o in os_lista:\n",
        "      posicao = int(controle_os[o])\n",
        "      controle_os[o] += 1\n",
        "      #print(o,posicao, controle_os, maquinas[o][posicao])\n",
        "      dados = self.df[self.df[\"JOB\"]==o].reset_index(drop=True)\n",
        "      localizador = maquinas[o][posicao]\n",
        "      machine_1 = dados.iloc[posicao][3]\n",
        "      machine_2 = dados.iloc[posicao][5]\n",
        "      machine_3 = dados.iloc[posicao][7]\n",
        "\n",
        "      if (machine_1 == localizador):\n",
        "        if (dados.iloc[posicao][4]!= 0):\n",
        "          if (posicao == 0): # Primeira vez na machine\n",
        "            machine_job[localizador].append(\"O(\" + str(o) + str(posicao) + \"):\" + str(machine_job[localizador][0]) + \"-\" + str(machine_job[localizador][0] + dados.iloc[posicao][4]))\n",
        "            machine_job[localizador][0] = machine_job[localizador][0] + dados.iloc[posicao][4]\n",
        "            job_time[o] = machine_job[localizador][0]\n",
        "          else:\n",
        "              inicio = job_time[o]\n",
        "              final = job_time[o] + dados.iloc[posicao][4]\n",
        "              ultimo = final\n",
        "              for m in range(1, len(machine_job[localizador])):\n",
        "                  s = machine_job[localizador][m]\n",
        "                  index_1 = s.find(\":\")\n",
        "                  index_2 = s.find(\"-\")\n",
        "                  numero_1 = int(s[(index_1+1):index_2])\n",
        "                  numero_2 = int(s[(index_2+1):])\n",
        "                  if (((inicio > numero_1) and (inicio >= numero_2)) and ((final > numero_1) and (final > numero_2))):\n",
        "                      continue\n",
        "                  else:\n",
        "                    if ((inicio < numero_1) and (final < numero_1) and (ultimo >= inicio)):\n",
        "                        break\n",
        "                    else:\n",
        "                        if ((inicio >= numero_1) and (inicio >= numero_2)):\n",
        "                          break\n",
        "                        else:\n",
        "                          inicio = numero_2\n",
        "                          ultimo = final\n",
        "                          final = inicio + dados.iloc[posicao][4]\n",
        "\n",
        "              machine_job[localizador].append(\"O(\" + str(o) + str(posicao) + \"):\" + str(inicio) + \"-\" + str(final))\n",
        "              machine_job[localizador][0] = final\n",
        "              job_time[o] = machine_job[localizador][0]\n",
        "      else:\n",
        "        if (machine_2 == localizador):\n",
        "          if (dados.iloc[posicao][4]!= 0):\n",
        "            if (posicao == 0): # Primeira vez na machine\n",
        "              machine_job[localizador].append(\"O(\" + str(o) + str(posicao) + \"):\" + str(machine_job[localizador][0]) + \"-\" + str(machine_job[localizador][0] + dados.iloc[posicao][4]))\n",
        "              machine_job[localizador][0] = machine_job[localizador][0] + dados.iloc[posicao][4]\n",
        "              job_time[o] = machine_job[localizador][0]\n",
        "            else:\n",
        "              inicio = job_time[o]\n",
        "              final = job_time[o] + dados.iloc[posicao][4]\n",
        "              for m in range(1, len(machine_job[localizador])):\n",
        "                  s = machine_job[localizador][m]\n",
        "                  index_1 = s.find(\":\")\n",
        "                  index_2 = s.find(\"-\")\n",
        "                  numero_1 = int(s[(index_1+1):index_2])\n",
        "                  numero_2 = int(s[(index_2+1):])\n",
        "                  if (((inicio > numero_1) and (inicio >= numero_2)) and ((final > numero_1) and (final > numero_2))):\n",
        "                      continue\n",
        "                  else:\n",
        "                    if ((inicio < numero_1) and (final < numero_1) and (ultimo >= inicio)):\n",
        "                        break\n",
        "                    else:\n",
        "                        if ((inicio >= numero_1) and (inicio >= numero_2)):\n",
        "                          break\n",
        "                        else:\n",
        "                          inicio = numero_2\n",
        "                          ultimo = final\n",
        "                          final = inicio + dados.iloc[posicao][4]\n",
        "\n",
        "              machine_job[localizador].append(\"O(\" + str(o) + str(posicao) + \"):\" + str(inicio) + \"-\" + str(final))\n",
        "              machine_job[localizador][0] = final\n",
        "              job_time[o] = machine_job[localizador][0]\n",
        "        else:\n",
        "          if (machine_3 == localizador):\n",
        "            if (dados.iloc[posicao][4]!= 0):\n",
        "              if (posicao == 0): # Primeira vez na machine\n",
        "                machine_job[localizador].append(\"O(\" + str(o) + str(posicao) + \"):\" + str(machine_job[localizador][0]) + \"-\" + str(machine_job[localizador][0] + dados.iloc[posicao][4]))\n",
        "                machine_job[localizador][0] = machine_job[localizador][0] + dados.iloc[posicao][4]\n",
        "                job_time[o] = machine_job[localizador][0]\n",
        "              else:\n",
        "                inicio = job_time[o]\n",
        "                final = job_time[o] + dados.iloc[posicao][4]\n",
        "                for m in range(1, len(machine_job[localizador])):\n",
        "                    s = machine_job[localizador][m]\n",
        "                    index_1 = s.find(\":\")\n",
        "                    index_2 = s.find(\"-\")\n",
        "                    numero_1 = int(s[(index_1+1):index_2])\n",
        "                    numero_2 = int(s[(index_2+1):])\n",
        "                    if (((inicio > numero_1) and (inicio >= numero_2)) and ((final > numero_1) and (final > numero_2))):\n",
        "                      continue\n",
        "                    else:\n",
        "                      if ((inicio < numero_1) and (final < numero_1) and (ultimo >= inicio)):\n",
        "                        break\n",
        "                      else:\n",
        "                        if ((inicio >= numero_1) and (inicio >= numero_2)):\n",
        "                          break\n",
        "                        else:\n",
        "                          inicio = numero_2\n",
        "                          ultimo = final\n",
        "                          final = inicio + dados.iloc[posicao][4]\n",
        "\n",
        "              machine_job[localizador].append(\"O(\" + str(o) + str(posicao) + \"):\" + str(inicio) + \"-\" + str(final))\n",
        "              machine_job[localizador][0] = final\n",
        "              job_time[o] = machine_job[localizador][0]\n",
        "    for x in machine_job:\n",
        "      print(x)\n",
        "\n",
        "    #print(job_time)\n",
        "\n",
        "\n"
      ],
      "metadata": {
        "id": "wK7D9tQvsXtX"
      },
      "execution_count": 193,
      "outputs": []
    },
    {
      "cell_type": "code",
      "source": [
        "algoritmo = HA_AG_TS()\n",
        "#ind = individuo(12, 4, 8, algoritmo.regras_MS)"
      ],
      "metadata": {
        "colab": {
          "base_uri": "https://localhost:8080/"
        },
        "id": "qtL0x_W955O8",
        "outputId": "7c1862ce-1043-4c65-a023-0a20389ebac2"
      },
      "execution_count": 194,
      "outputs": [
        {
          "output_type": "stream",
          "name": "stdout",
          "text": [
            "JOB:  12\n",
            "OPERATION:  4\n",
            "MACHINE:  8\n"
          ]
        }
      ]
    },
    {
      "cell_type": "code",
      "source": [
        "print (ind.OS)"
      ],
      "metadata": {
        "colab": {
          "base_uri": "https://localhost:8080/"
        },
        "id": "bgwWSSP_A7yA",
        "outputId": "403a7614-6734-4221-ca6c-dd328cfb441d"
      },
      "execution_count": 126,
      "outputs": [
        {
          "output_type": "stream",
          "name": "stdout",
          "text": [
            "[6, 5, 0, 7, 5, 3, 8, 10, 2, 6, 2, 2, 3, 5, 3, 5, 10, 6, 7, 1, 1, 2, 0, 6, 8, 7, 3, 11, 7, 10, 0, 8, 11, 4, 1, 0, 11, 10, 8, 9, 4, 11, 9, 1, 9, 4, 4, 9]\n"
          ]
        }
      ]
    },
    {
      "cell_type": "code",
      "source": [
        "print(ind.MS)"
      ],
      "metadata": {
        "colab": {
          "base_uri": "https://localhost:8080/"
        },
        "id": "XZI8HagLC6O2",
        "outputId": "25abb28b-bc17-40d7-e107-7207df6f8cca"
      },
      "execution_count": 127,
      "outputs": [
        {
          "output_type": "stream",
          "name": "stdout",
          "text": [
            "[0, 1, 6, 7, 2, 2, 6, 4, 1, 3, 5, 5, 0, 2, 5, 4, 0, 4, 4, 5, 1, 3, 6, 3, 2, 2, 5, 4, 3, 5, 4, 7, 1, 2, 6, 7, 3, 4, 5, 6, 2, 2, 6, 5, 2, 2, 4, 4]\n"
          ]
        }
      ]
    },
    {
      "cell_type": "code",
      "source": [
        "algoritmo.fitness(ind.OS, ind.MS)"
      ],
      "metadata": {
        "colab": {
          "base_uri": "https://localhost:8080/"
        },
        "id": "1xr0bpNd591F",
        "outputId": "5c2642d9-eb29-4472-aa43-4e781dff04bf"
      },
      "execution_count": 195,
      "outputs": [
        {
          "output_type": "stream",
          "name": "stdout",
          "text": [
            "[1899, 'O(00):0-247', 'O(30):247-334', 'O(40):334-457', 'O(40):1675-1899']\n",
            "[522, 'O(50):0-145', 'O(80):145-295', 'O(20):295-382', 'O(01):382-522']\n",
            "[1899, 'O(60):0-145', 'O(100):145-295', 'O(61):295-419', 'O(31):419-669', 'O(101):669-849', 'O(10):849-1063', 'O(11):1063-1150', 'O(81):1150-1330', 'O(110):1330-1675', 'O(111):1675-1899']\n",
            "[905, 'O(70):0-245', 'O(51):245-395', 'O(21):395-540', 'O(53):540-660', 'O(90):660-905']\n",
            "[2814, 'O(63):1020-1250', 'O(72):469-614', 'O(33):1250-1500', 'O(112):1899-2044', 'O(41):2044-2130', 'O(113):2130-2360', 'O(91):2360-2584', 'O(13):2584-2704', 'O(42):2704-2814']\n",
            "[2979, 'O(22):540-730', 'O(32):730-875', 'O(62):875-1020', 'O(71):245-469', 'O(23):1020-1190', 'O(103):1190-1340', 'O(92):2584-2729', 'O(43):2814-2979']\n",
            "[2879, 'O(52):395-515', 'O(102):849-889', 'O(02):522-672', 'O(82):1330-1370', 'O(12):1150-1328', 'O(93):2729-2879']\n",
            "[1520, 'O(73):614-764', 'O(03):764-974', 'O(83):1370-1520']\n"
          ]
        }
      ]
    },
    {
      "cell_type": "code",
      "source": [],
      "metadata": {
        "id": "w3GxJUNN5-AF"
      },
      "execution_count": null,
      "outputs": []
    },
    {
      "cell_type": "code",
      "source": [],
      "metadata": {
        "id": "Z_jdctZRsXw-"
      },
      "execution_count": null,
      "outputs": []
    },
    {
      "cell_type": "code",
      "source": [],
      "metadata": {
        "id": "5OccesEwzw4K"
      },
      "execution_count": null,
      "outputs": []
    },
    {
      "cell_type": "code",
      "source": [
        "ind.OS"
      ],
      "metadata": {
        "colab": {
          "base_uri": "https://localhost:8080/"
        },
        "id": "KmcGIqPY5kq9",
        "outputId": "f5cfea31-0c97-4587-de94-9a8668bfe29e"
      },
      "execution_count": null,
      "outputs": [
        {
          "output_type": "execute_result",
          "data": {
            "text/plain": [
              "[4,\n",
              " 9,\n",
              " 10,\n",
              " 7,\n",
              " 0,\n",
              " 4,\n",
              " 3,\n",
              " 0,\n",
              " 4,\n",
              " 9,\n",
              " 11,\n",
              " 10,\n",
              " 10,\n",
              " 9,\n",
              " 4,\n",
              " 11,\n",
              " 2,\n",
              " 0,\n",
              " 6,\n",
              " 10,\n",
              " 0,\n",
              " 1,\n",
              " 1,\n",
              " 11,\n",
              " 1,\n",
              " 6,\n",
              " 8,\n",
              " 3,\n",
              " 8,\n",
              " 11,\n",
              " 9,\n",
              " 6,\n",
              " 3,\n",
              " 6,\n",
              " 7,\n",
              " 5,\n",
              " 2,\n",
              " 2,\n",
              " 8,\n",
              " 5,\n",
              " 1,\n",
              " 2,\n",
              " 8,\n",
              " 5,\n",
              " 5,\n",
              " 3,\n",
              " 7,\n",
              " 7]"
            ]
          },
          "metadata": {},
          "execution_count": 130
        }
      ]
    },
    {
      "cell_type": "code",
      "source": [
        "ind.MS"
      ],
      "metadata": {
        "id": "6fbK5FdD78FB",
        "colab": {
          "base_uri": "https://localhost:8080/"
        },
        "outputId": "e4cb5ae6-a2a3-4d6a-bb98-7e7b7ef89b58"
      },
      "execution_count": null,
      "outputs": [
        {
          "output_type": "execute_result",
          "data": {
            "text/plain": [
              "[1,\n",
              " 3,\n",
              " 6,\n",
              " 7,\n",
              " 0,\n",
              " 2,\n",
              " 4,\n",
              " 4,\n",
              " 1,\n",
              " 3,\n",
              " 5,\n",
              " 7,\n",
              " 1,\n",
              " 2,\n",
              " 5,\n",
              " 4,\n",
              " 1,\n",
              " 4,\n",
              " 1,\n",
              " 7,\n",
              " 1,\n",
              " 2,\n",
              " 5,\n",
              " 3,\n",
              " 2,\n",
              " 2,\n",
              " 4,\n",
              " 4,\n",
              " 2,\n",
              " 4,\n",
              " 6,\n",
              " 7,\n",
              " 1,\n",
              " 2,\n",
              " 4,\n",
              " 5,\n",
              " 2,\n",
              " 4,\n",
              " 4,\n",
              " 7,\n",
              " 2,\n",
              " 2,\n",
              " 6,\n",
              " 5,\n",
              " 1,\n",
              " 2,\n",
              " 4,\n",
              " 4]"
            ]
          },
          "metadata": {},
          "execution_count": 97
        }
      ]
    }
  ]
}