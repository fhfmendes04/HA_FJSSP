{
  "nbformat": 4,
  "nbformat_minor": 0,
  "metadata": {
    "colab": {
      "provenance": [],
      "mount_file_id": "1pD-ZrR_bkeKBIErubKi6YGM-rz_1agKB",
      "authorship_tag": "ABX9TyPW0tjxYvb0YliYrec/CXQQ",
      "include_colab_link": true
    },
    "kernelspec": {
      "name": "python3",
      "display_name": "Python 3"
    },
    "language_info": {
      "name": "python"
    }
  },
  "cells": [
    {
      "cell_type": "markdown",
      "metadata": {
        "id": "view-in-github",
        "colab_type": "text"
      },
      "source": [
        "<a href=\"https://colab.research.google.com/github/fhfmendes04/HA_FJSSP/blob/main/HA_AG_TS.ipynb\" target=\"_parent\"><img src=\"https://colab.research.google.com/assets/colab-badge.svg\" alt=\"Open In Colab\"/></a>"
      ]
    },
    {
      "cell_type": "code",
      "execution_count": 56,
      "metadata": {
        "id": "rikN9yMQsTPg"
      },
      "outputs": [],
      "source": [
        "import pandas as pd\n",
        "import numpy as np\n",
        "import random\n",
        "from tqdm import tqdm\n",
        "from copy import deepcopy\n"
      ]
    },
    {
      "cell_type": "code",
      "source": [
        "class individuo():\n",
        "  def __init__(self, job, operation, machine, regras_MS):\n",
        "    self.OS = []\n",
        "    self.MS = []\n",
        "    self.regras_MS = regras_MS\n",
        "\n",
        "    self.job = job\n",
        "    self.operation = operation\n",
        "    self.machine = machine\n",
        "\n",
        "    self.OS_String()\n",
        "    self.MS_String()\n",
        "\n",
        "    self.scheduling = []\n",
        "    self.makespan = 0\n",
        "\n",
        "  def OS_String(self):\n",
        "    lista = [3,3,3,3,3,3,3,3,3,3,3,3]\n",
        "    for l in range(0,self.job * self.operation):\n",
        "      flag = True\n",
        "      while flag:\n",
        "        numero = random.randint(0,11)\n",
        "        if lista[numero]>=0:\n",
        "          lista[numero] -= 1\n",
        "          self.OS.append(numero)\n",
        "          flag=False\n",
        "\n",
        "  def MS_String(self):\n",
        "    for j in range(0, self.job):\n",
        "      reg = self.regras_MS[j]\n",
        "      for o in range(0, self.operation):\n",
        "        self.MS.append(random.choice(reg[o]))"
      ],
      "metadata": {
        "id": "PJOsarkI09Ma"
      },
      "execution_count": 33,
      "outputs": []
    },
    {
      "cell_type": "code",
      "source": [
        "from pandas._config.config import pp_options_list\n",
        "class HA_AG_TS():\n",
        "  def __init__(self, tamanho_populacao=400, geracao=200, prob_reproduction = 0.5, prob_crossover=0.8, prob_mutacao=0.1):\n",
        "    self.tamanho_populacao = tamanho_populacao\n",
        "    self.populacao = []\n",
        "    self.geracao = geracao\n",
        "    self.prob_crossover = prob_crossover\n",
        "    self.prob_mutacao = prob_mutacao\n",
        "    self.prob_reproduction = prob_reproduction\n",
        "    self.lista_solucoes = []\n",
        "    self.df = pd.DataFrame()\n",
        "    self.job = 0\n",
        "    self.operation = 0\n",
        "    self.machine = 0\n",
        "    self.regras_MS = []\n",
        "    self.gen = 0\n",
        "    self.pop_ordenada = []\n",
        "    self.parents = []\n",
        "    self.offsprings = []\n",
        "    self.best = []\n",
        "    self.tamanho =  0\n",
        "\n",
        "    self.upload()\n",
        "    self.regramento_MS()\n",
        "\n",
        "  def upload(self):\n",
        "      arquivo = \"/content/drive/MyDrive/USP/Mestrado Sistema de Informação/SIN 5006 - Inteligência Computacional/Apresentação I/code/MFJS01.xlsx\"\n",
        "      self.df = pd.read_excel(arquivo, index_col=False)\n",
        "      self.job = len(self.df['JOB'].unique())\n",
        "      self.operation = len(self.df['OPERATION'].unique())\n",
        "      self.machine = len(self.df['MACHINE'].unique())\n",
        "      print(\"JOB: \", self.job)\n",
        "      print(\"OPERATION: \", self.operation)\n",
        "      print(\"MACHINE: \", self.machine)\n",
        "\n",
        "      self.df.fillna(0,inplace=True)\n",
        "      self.df[\"MACHINE.2\"] = self.df[\"MACHINE.2\"].astype(int)\n",
        "      self.df['TIME.2'] = self.df[\"TIME.2\"].astype(int)\n",
        "\n",
        "  def regramento_MS(self):\n",
        "    for j in range(0,self.job):\n",
        "      regra_o = []\n",
        "      dados = self.df[self.df[\"JOB\"]==j].reset_index(drop=True)\n",
        "      for o in range(0, self.operation):\n",
        "        regra = []\n",
        "        machine_1 = dados.iloc[o][3]\n",
        "        machine_2 = dados.iloc[o][5]\n",
        "        machine_3 = dados.iloc[o][7]\n",
        "\n",
        "        if (machine_1 != 0):\n",
        "          regra.append(machine_1)\n",
        "        elif (machine_1 == 0):\n",
        "          if (dados.iloc[0][4]!= 0):\n",
        "            regra.append(machine_1)\n",
        "\n",
        "        if(machine_2 != 0):\n",
        "          regra.append(machine_2)\n",
        "        elif (machine_2 == 0):\n",
        "          if(dados.ilo[o][6] != 0):\n",
        "            regra.append(machine_2)\n",
        "\n",
        "        if(machine_3 !=0):\n",
        "          regra.append(machine_3)\n",
        "        elif (machine_3 == 0):\n",
        "          if (dados.iloc[o][8] !=0):\n",
        "            regra.append(machine_3)\n",
        "\n",
        "        regra_o.append(regra)\n",
        "\n",
        "      self.regras_MS.append(regra_o)\n",
        "\n",
        "  def fitness(self,os_lista, ms_lista):\n",
        "    maquinas = []\n",
        "    controle_os = np.zeros(self.job)\n",
        "\n",
        "    #Transforma a lista de 48 elementos em 12 x 4\n",
        "    conta = 0\n",
        "    mostra = []\n",
        "    maquinas = []\n",
        "    machine_job = [[0],[0],[0],[0],[0],[0],[0],[0]]\n",
        "    job_time = [[0],[0],[0],[0],[0],[0],[0],[0],[0],[0],[0],[0]]\n",
        "    for i in ms_lista:\n",
        "      mostra.append(i)\n",
        "      conta +=1\n",
        "      if ((conta % 4) == 0):\n",
        "        conta = 0\n",
        "        maquinas.append(mostra)\n",
        "        mostra=[]\n",
        "    #print(maquinas)\n",
        "    for o in os_lista:\n",
        "      posicao = int(controle_os[o])\n",
        "      controle_os[o] += 1\n",
        "      #print(o,posicao, controle_os, maquinas[o][posicao])\n",
        "      dados = self.df[self.df[\"JOB\"]==o].reset_index(drop=True)\n",
        "      localizador = maquinas[o][posicao]\n",
        "      machine_1 = dados.iloc[posicao][3]\n",
        "      machine_2 = dados.iloc[posicao][5]\n",
        "      machine_3 = dados.iloc[posicao][7]\n",
        "\n",
        "      if (machine_1 == localizador):\n",
        "        if (dados.iloc[posicao][4]!= 0):\n",
        "          if (posicao == 0): # Primeira vez na machine\n",
        "            machine_job[localizador].append(\"O(\" + str(o) + str(posicao) + \"):\" + str(machine_job[localizador][0]) + \"-\" + str(machine_job[localizador][0] + dados.iloc[posicao][4]))\n",
        "            machine_job[localizador][0] = machine_job[localizador][0] + dados.iloc[posicao][4]\n",
        "            job_time[o] = machine_job[localizador][0]\n",
        "          else:\n",
        "              inicio = job_time[o]\n",
        "              final = job_time[o] + dados.iloc[posicao][4]\n",
        "              ultimo = final\n",
        "              for m in range(1, len(machine_job[localizador])):\n",
        "                  s = machine_job[localizador][m]\n",
        "                  index_1 = s.find(\":\")\n",
        "                  index_2 = s.find(\"-\")\n",
        "                  numero_1 = int(s[(index_1+1):index_2])\n",
        "                  numero_2 = int(s[(index_2+1):])\n",
        "                  if (((inicio > numero_1) and (inicio >= numero_2)) and ((final > numero_1) and (final > numero_2))):\n",
        "                      continue\n",
        "                  else:\n",
        "                    if ((inicio < numero_1) and (final < numero_1) and (ultimo >= inicio)):\n",
        "                        break\n",
        "                    else:\n",
        "                      if ((inicio >= numero_1) and (inicio >= numero_2)):\n",
        "                        break\n",
        "                      else:\n",
        "                        inicio = numero_2\n",
        "                        ultimo = final\n",
        "                        final = inicio + dados.iloc[posicao][4]\n",
        "\n",
        "              machine_job[localizador].append(\"O(\" + str(o) + str(posicao) + \"):\" + str(inicio) + \"-\" + str(final))\n",
        "              machine_job[localizador][0] = final\n",
        "              job_time[o] = machine_job[localizador][0]\n",
        "      else:\n",
        "        if (machine_2 == localizador):\n",
        "          if (dados.iloc[posicao][6]!= 0):\n",
        "            if (posicao == 0): # Primeira vez na machine\n",
        "              machine_job[localizador].append(\"O(\" + str(o) + str(posicao) + \"):\" + str(machine_job[localizador][0]) + \"-\" + str(machine_job[localizador][0] + dados.iloc[posicao][4]))\n",
        "              machine_job[localizador][0] = machine_job[localizador][0] + dados.iloc[posicao][4]\n",
        "              job_time[o] = machine_job[localizador][0]\n",
        "            else:\n",
        "              inicio = job_time[o]\n",
        "              final = job_time[o] + dados.iloc[posicao][4]\n",
        "              ultimo = final\n",
        "              for m in range(1, len(machine_job[localizador])):\n",
        "                  s = machine_job[localizador][m]\n",
        "                  index_1 = s.find(\":\")\n",
        "                  index_2 = s.find(\"-\")\n",
        "                  numero_1 = int(s[(index_1+1):index_2])\n",
        "                  numero_2 = int(s[(index_2+1):])\n",
        "                  if (((inicio > numero_1) and (inicio >= numero_2)) and ((final > numero_1) and (final > numero_2))):\n",
        "                      continue\n",
        "                  else:\n",
        "                    if ((inicio < numero_1) and (final < numero_1) and (ultimo >= inicio)):\n",
        "                        break\n",
        "                    else:\n",
        "                      if ((inicio >= numero_1) and (inicio >= numero_2)):\n",
        "                        break\n",
        "                      else:\n",
        "                        inicio = numero_2\n",
        "                        ultimo = final\n",
        "                        final = inicio + dados.iloc[posicao][4]\n",
        "\n",
        "              machine_job[localizador].append(\"O(\" + str(o) + str(posicao) + \"):\" + str(inicio) + \"-\" + str(final))\n",
        "              machine_job[localizador][0] = final\n",
        "              job_time[o] = machine_job[localizador][0]\n",
        "        else:\n",
        "          if (machine_3 == localizador):\n",
        "            if (dados.iloc[posicao][8]!= 0):\n",
        "              if (posicao == 0): # Primeira vez na machine\n",
        "                machine_job[localizador].append(\"O(\" + str(o) + str(posicao) + \"):\" + str(machine_job[localizador][0]) + \"-\" + str(machine_job[localizador][0] + dados.iloc[posicao][4]))\n",
        "                machine_job[localizador][0] = machine_job[localizador][0] + dados.iloc[posicao][4]\n",
        "                job_time[o] = machine_job[localizador][0]\n",
        "              else:\n",
        "                inicio = job_time[o]\n",
        "                final = job_time[o] + dados.iloc[posicao][4]\n",
        "                ultimo = final\n",
        "                for m in range(1, len(machine_job[localizador])):\n",
        "                  s = machine_job[localizador][m]\n",
        "                  index_1 = s.find(\":\")\n",
        "                  index_2 = s.find(\"-\")\n",
        "                  numero_1 = int(s[(index_1+1):index_2])\n",
        "                  numero_2 = int(s[(index_2+1):])\n",
        "                  if (((inicio > numero_1) and (inicio >= numero_2)) and ((final > numero_1) and (final > numero_2))):\n",
        "                    continue\n",
        "                  else:\n",
        "                    if ((inicio < numero_1) and (final < numero_1) and (ultimo >= inicio)):\n",
        "                      break\n",
        "                    else:\n",
        "                      if ((inicio >= numero_1) and (inicio >= numero_2)):\n",
        "                        break\n",
        "                      else:\n",
        "                        inicio = numero_2\n",
        "                        ultimo = final\n",
        "                        final = inicio + dados.iloc[posicao][4]\n",
        "\n",
        "                machine_job[localizador].append(\"O(\" + str(o) + str(posicao) + \"):\" + str(inicio) + \"-\" + str(final))\n",
        "                machine_job[localizador][0] = final\n",
        "                job_time[o] = machine_job[localizador][0]\n",
        "\n",
        "    maior = 0\n",
        "    for l in machine_job:\n",
        "      if l[0] > maior:\n",
        "        maior = l[0]\n",
        "    return maior, machine_job\n",
        "\n",
        "\n",
        "  def initialize_population(self):\n",
        "    self.gen = 1\n",
        "    print(f\"\\nInitialize the Population({self.gen}).\")\n",
        "    for i in tqdm(range(self.tamanho_populacao)):\n",
        "      self.populacao.append(individuo(self.job, self.operation, self.machine, self.regras_MS))\n",
        "\n",
        "  def evaluate_population(self):\n",
        "    print(f\"\\nEvaluate the Population({self.gen}).\")\n",
        "    for p in tqdm(self.populacao):\n",
        "      p.makespan, p.scheduling  =  self.fitness(p.OS, p.MS)\n",
        "    self.pop_ordenada = sorted(self.populacao,\n",
        "                            key = lambda populacao: populacao.makespan,\n",
        "                            reverse = False)\n",
        "    self.best = self.pop_ordenada[0]\n",
        "    print(\"\\nMakerspan:\", self.pop_ordenada[0].makespan)\n",
        "\n",
        "\n",
        "  def selection(self, popular):\n",
        "    self.tamanho = int(self.prob_reproduction * self.tamanho_populacao)\n",
        "    escolha = random.randint(0, 1)\n",
        "    if escolha == 0: #Elitist Selection\n",
        "      print(f\"\\nSelection: Elitist({self.tamanho}).\")\n",
        "      self.parents =  deepcopy(self.pop_ordenada[0:self.tamanho])\n",
        "      self.offsprings =  deepcopy(self.pop_ordenada[0:self.tamanho])\n",
        "    else: # Tournament Selection\n",
        "      print(f\"\\nSelection: Tournament({self.tamanho})\")\n",
        "      self.parents =  deepcopy(random.choices(popular, k=self.tamanho))\n",
        "      self.offsprings =  deepcopy(random.choices(popular, k=self.tamanho))\n",
        "\n",
        "  #def POX(self, pai1, pai2):\n",
        "\n",
        "\n",
        "  #def JBX(self, pai1, pai2):\n",
        "  '''def crossover(self, popular):\n",
        "    escolha = random.randint(0, 1)\n",
        "    if escolha == 0: #POX\n",
        "\n",
        "\n",
        "    else: #JBX\n",
        "'''\n",
        "  def soluction(self):\n",
        "    self.initialize_population()\n",
        "    self.evaluate_population()\n",
        "    self.selection(HA.populacao)\n",
        "    while self.gen < self.geracao:\n",
        "      self.gen += 1\n",
        "      contador = self.tamanho\n",
        "      while contador < self.tamanho_populacao:\n",
        "        pais = deepcopy(random.choices(self.parents, k=2))\n",
        "        pai1 = pais[0]\n",
        "        pai2 = pais[1]\n",
        "        filhos_c = self.crossover(pai1, pai2)\n",
        "        #filhos_m = self.mutacao(pa1,pa12)\n",
        "\n",
        "\n",
        "\n",
        "\n"
      ],
      "metadata": {
        "id": "wK7D9tQvsXtX"
      },
      "execution_count": 130,
      "outputs": []
    },
    {
      "cell_type": "code",
      "source": [
        "HA = HA_AG_TS()\n",
        "HA.soluction()\n"
      ],
      "metadata": {
        "colab": {
          "base_uri": "https://localhost:8080/"
        },
        "id": "qtL0x_W955O8",
        "outputId": "67f80786-95fe-4e39-b1dc-e483507fc590"
      },
      "execution_count": 132,
      "outputs": [
        {
          "output_type": "stream",
          "name": "stdout",
          "text": [
            "JOB:  12\n",
            "OPERATION:  4\n",
            "MACHINE:  8\n",
            "\n",
            "Initialize the Population(1).\n"
          ]
        },
        {
          "output_type": "stream",
          "name": "stderr",
          "text": [
            "100%|██████████| 400/400 [00:00<00:00, 8005.20it/s]\n"
          ]
        },
        {
          "output_type": "stream",
          "name": "stdout",
          "text": [
            "\n",
            "Evaluate the Population(1).\n"
          ]
        },
        {
          "output_type": "stream",
          "name": "stderr",
          "text": [
            "100%|██████████| 400/400 [00:14<00:00, 27.90it/s]"
          ]
        },
        {
          "output_type": "stream",
          "name": "stdout",
          "text": [
            "\n",
            "Makerspan: 1391\n",
            "\n",
            "Selection: Elitist(200).\n"
          ]
        },
        {
          "output_type": "stream",
          "name": "stderr",
          "text": [
            "\n"
          ]
        }
      ]
    },
    {
      "cell_type": "code",
      "source": [
        "len(HA.parents)"
      ],
      "metadata": {
        "colab": {
          "base_uri": "https://localhost:8080/"
        },
        "id": "9sRgPJUCxDCr",
        "outputId": "20e1d51d-6b12-48c1-c632-b6ea60dc38d1"
      },
      "execution_count": 117,
      "outputs": [
        {
          "output_type": "execute_result",
          "data": {
            "text/plain": [
              "200"
            ]
          },
          "metadata": {},
          "execution_count": 117
        }
      ]
    },
    {
      "cell_type": "code",
      "source": [
        "print(HA.populacao[10].OS)\n",
        "print(HA.populacao[10].MS)\n",
        "print(HA.populacao[10].makespan)\n",
        "print(HA.populacao[10].scheduling)\n"
      ],
      "metadata": {
        "colab": {
          "base_uri": "https://localhost:8080/"
        },
        "id": "bgwWSSP_A7yA",
        "outputId": "04f05feb-bc1b-4528-cbad-51caccec36ca"
      },
      "execution_count": 103,
      "outputs": [
        {
          "output_type": "stream",
          "name": "stdout",
          "text": [
            "[8, 6, 2, 5, 0, 9, 0, 10, 10, 10, 6, 9, 5, 4, 0, 5, 5, 7, 9, 2, 1, 11, 0, 9, 10, 11, 3, 3, 7, 8, 11, 3, 2, 7, 8, 7, 3, 11, 6, 8, 6, 4, 1, 2, 4, 4, 1, 1]\n",
            "[2, 6, 6, 7, 0, 2, 5, 4, 1, 2, 5, 5, 1, 4, 5, 4, 2, 4, 1, 7, 3, 4, 6, 6, 2, 4, 4, 4, 2, 4, 6, 6, 2, 3, 6, 5, 2, 4, 6, 7, 1, 3, 4, 5, 1, 2, 6, 7]\n",
            "2326\n",
            "[[214, 'O(10):0-214'], [2161, 'O(20):0-87', 'O(100):87-237', 'O(110):237-582', 'O(30):582-669', 'O(42):2051-2161'], [1611, 'O(80):0-150', 'O(60):150-295', 'O(00):295-542', 'O(90):542-787', 'O(40):787-910', 'O(70):910-1155', 'O(21):1155-1300', 'O(111):1300-1524', 'O(11):1524-1611'], [597, 'O(50):0-145', 'O(101):237-417', 'O(81):417-597'], [2171, 'O(102):417-457', 'O(61):457-581', 'O(91):787-1011', 'O(51):145-295', 'O(31):1011-1261', 'O(71):1261-1485', 'O(33):1485-1735', 'O(62):581-726', 'O(63):1735-1965', 'O(41):1965-2051', 'O(13):2051-2171'], [1789, 'O(103):457-607', 'O(32):1261-1406', 'O(22):1406-1596', 'O(83):1854-2004', 'O(23):1596-1766', 'O(12):1611-1789'], [2004, 'O(01):542-682', 'O(02):682-832', 'O(52):295-415', 'O(53):415-535', 'O(92):1011-1156', 'O(112):1524-1669', 'O(72):1669-1814', 'O(82):1814-1854', 'O(73):1854-2004'], [2326, 'O(03):832-1042', 'O(93):1156-1306', 'O(113):1669-1899', 'O(43):2161-2326']]\n"
          ]
        }
      ]
    },
    {
      "cell_type": "code",
      "source": [],
      "metadata": {
        "id": "1xr0bpNd591F"
      },
      "execution_count": 44,
      "outputs": []
    },
    {
      "cell_type": "code",
      "source": [],
      "metadata": {
        "id": "Z_jdctZRsXw-"
      },
      "execution_count": null,
      "outputs": []
    },
    {
      "cell_type": "code",
      "source": [],
      "metadata": {
        "id": "5OccesEwzw4K"
      },
      "execution_count": null,
      "outputs": []
    }
  ]
}